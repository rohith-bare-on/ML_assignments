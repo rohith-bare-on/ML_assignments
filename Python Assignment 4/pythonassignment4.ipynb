{
 "cells": [
  {
   "cell_type": "markdown",
   "metadata": {},
   "source": [
    "1.1 Write a Python Program(with class concepts) to find the area of the triangle using the below\n",
    "formula.\n",
    "area = (s*(s-a)*(s-b)*(s-c)) ** 0.5\n",
    "Function to take the length of the sides of triangle from user should be defined in the parent\n",
    "class and function to calculate the area should be defined in subclass."
   ]
  },
  {
   "cell_type": "code",
   "execution_count": 1,
   "metadata": {},
   "outputs": [],
   "source": [
    "class Triangle:\n",
    "    def __init__(self,a,b,c):\n",
    "        self.a = a\n",
    "        self.b = b\n",
    "        self.c = c\n",
    "        \n",
    "class Area(Triangle):\n",
    "    def __init__(self,*args):\n",
    "        super(Area,self).__init__(*args)\n",
    "        self.s = (self.a + self.b + self.c)/2\n",
    "        \n",
    "    def calculateArea(self):\n",
    "        return (self.s * (self.s-self.a) * (self.s-self.b) * (self.s-self.c)) ** 0.5"
   ]
  },
  {
   "cell_type": "code",
   "execution_count": 2,
   "metadata": {},
   "outputs": [
    {
     "name": "stdout",
     "output_type": "stream",
     "text": [
      "Area of triangle:  83.78544026261365\n",
      "Semiperimeter:  26.0\n"
     ]
    }
   ],
   "source": [
    "tr = Area(23,21,8)\n",
    "print(\"Area of triangle: \",tr.calculateArea())\n",
    "print(\"Semiperimeter: \",tr.s)"
   ]
  },
  {
   "cell_type": "markdown",
   "metadata": {},
   "source": [
    "1.2 Write a function filter_long_words() that takes a list of words and an integer n and returns\n",
    "the list of words that are longer than n."
   ]
  },
  {
   "cell_type": "code",
   "execution_count": 3,
   "metadata": {},
   "outputs": [
    {
     "name": "stdout",
     "output_type": "stream",
     "text": [
      "['hyeyd']\n",
      "['are', 'hyeyd']\n",
      "[]\n"
     ]
    }
   ],
   "source": [
    "def filter_long_words(number,*args):\n",
    "    lis = []\n",
    "    for string in args:\n",
    "        if len(string) > number:\n",
    "            lis.append(string)\n",
    "    return lis\n",
    "    \n",
    "print(filter_long_words(3,\"are\",\"hyeyd\",\"uy\"))\n",
    "print(filter_long_words(2,\"are\",\"hyeyd\",\"uy\"))\n",
    "print(filter_long_words(8,\"are\",\"hyeyd\",\"uy\"))"
   ]
  },
  {
   "cell_type": "markdown",
   "metadata": {},
   "source": [
    "2.1 Write a Python program using function concept that maps list of words into a list of integers\n",
    "representing the lengths of the corresponding words.\n",
    "Hint: If a list [ ab,cde,erty] is passed on to the python function output should come as [2,3,4]\n",
    "Here 2,3 and 4 are the lengths of the words in the list.\n"
   ]
  },
  {
   "cell_type": "code",
   "execution_count": 4,
   "metadata": {},
   "outputs": [
    {
     "name": "stdout",
     "output_type": "stream",
     "text": [
      "[2, 3, 4]\n",
      "[6, 3, 5]\n"
     ]
    }
   ],
   "source": [
    "def len_map(lis):\n",
    "    li = []\n",
    "    for i in lis:\n",
    "        li.append(len(i))\n",
    "    return li\n",
    "\n",
    "print(len_map([\"ab\",\"cde\",\"erty\"]))\n",
    "print(len_map([\"ababab\",\"cde\",\"ertyw\"]))"
   ]
  },
  {
   "cell_type": "markdown",
   "metadata": {},
   "source": [
    "2.2 Write a Python function which takes a character (i.e. a string of length 1) and returns True if\n",
    "it is a vowel, False otherwise."
   ]
  },
  {
   "cell_type": "code",
   "execution_count": 5,
   "metadata": {},
   "outputs": [
    {
     "name": "stdout",
     "output_type": "stream",
     "text": [
      "True\n",
      "False\n",
      "False\n",
      "True\n"
     ]
    }
   ],
   "source": [
    "def isVowel(letter):\n",
    "    return True if (letter in \"aeiouAEIOU\") else False\n",
    "    \n",
    "print(isVowel('a'))\n",
    "print(isVowel('b'))\n",
    "print(isVowel('C'))\n",
    "print(isVowel('O'))"
   ]
  },
  {
   "cell_type": "code",
   "execution_count": null,
   "metadata": {},
   "outputs": [],
   "source": []
  }
 ],
 "metadata": {
  "kernelspec": {
   "display_name": "Python 3",
   "language": "python",
   "name": "python3"
  },
  "language_info": {
   "codemirror_mode": {
    "name": "ipython",
    "version": 3
   },
   "file_extension": ".py",
   "mimetype": "text/x-python",
   "name": "python",
   "nbconvert_exporter": "python",
   "pygments_lexer": "ipython3",
   "version": "3.7.6"
  }
 },
 "nbformat": 4,
 "nbformat_minor": 4
}
