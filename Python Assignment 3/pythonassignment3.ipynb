{
 "cells": [
  {
   "cell_type": "markdown",
   "metadata": {},
   "source": [
    "# Python Assignment 3"
   ]
  },
  {
   "cell_type": "markdown",
   "metadata": {},
   "source": [
    "#### 1.1 Write a Python Program to implement your own myreduce() function which works exactly like Python's built-in function reduce()"
   ]
  },
  {
   "cell_type": "code",
   "execution_count": 1,
   "metadata": {},
   "outputs": [
    {
     "name": "stdout",
     "output_type": "stream",
     "text": [
      "6\n",
      "24\n",
      "4\n",
      "None\n"
     ]
    }
   ],
   "source": [
    "def myreduce(fn,lis):\n",
    "    if len(lis) == 0:\n",
    "        return None\n",
    "    elif len(lis) == 1:\n",
    "        return lis[0]\n",
    "    else:\n",
    "        ans = fn(lis[0],lis[1])\n",
    "        for i in range(2,len(lis)):\n",
    "            ans = fn(ans,lis[i])\n",
    "    return ans\n",
    "\n",
    "def msum(a,b):\n",
    "    return a + b\n",
    "\n",
    "def mmult(a,b):\n",
    "    return a * b\n",
    "\n",
    "print(myreduce(msum,[1,2,3]))\n",
    "print(myreduce(mmult,[4,2,3]))\n",
    "print(myreduce(mmult,[4]))\n",
    "print(myreduce(mmult,[]))"
   ]
  },
  {
   "cell_type": "markdown",
   "metadata": {},
   "source": [
    "#### 1.2 Write a Python program to implement your own myfilter() function which works exactly like Python's built-in function filter()"
   ]
  },
  {
   "cell_type": "code",
   "execution_count": 2,
   "metadata": {},
   "outputs": [
    {
     "name": "stdout",
     "output_type": "stream",
     "text": [
      "[0, 2, 4, 6, 8]\n",
      "['a', 's', 'w']\n"
     ]
    }
   ],
   "source": [
    "def myfilter(fn,lis):\n",
    "    if len(lis) == 0:\n",
    "        return None\n",
    "    li = []\n",
    "    \n",
    "    for i in lis:\n",
    "        if(fn(i)):\n",
    "            li.append(i)\n",
    "    return li\n",
    "\n",
    "def isEven(a):\n",
    "    return a%2 == 0\n",
    "    \n",
    "def isAlpha(a):\n",
    "    if ord(a) >= 65 and ord(a) <= 90:\n",
    "        return True\n",
    "    elif ord(a) >= 97 and ord(a) <= 132:\n",
    "        return True\n",
    "    return False\n",
    "\n",
    "print(myfilter(isEven,range(10)))\n",
    "print(myfilter(isAlpha,\"a23sw4\"))\n",
    "    "
   ]
  },
  {
   "cell_type": "markdown",
   "metadata": {},
   "source": [
    "#### 2. Implement List comprehensions to produce the following lists.Write List comprehensions to produce the following Lists\n",
    "### ['A', 'C', 'A', 'D', 'G', 'I', ’L’, ‘ D’]\n",
    "### ['x', 'xx', 'xxx', 'xxxx', 'y', 'yy', 'yyy', 'yyyy', 'z', 'zz', 'zzz', 'zzzz']\n",
    "### ['x', 'y', 'z', 'xx', 'yy', 'zz', 'xxx', 'yyy', 'zzz', 'xxxx', 'yyyy', 'zzzz']\n",
    "### [[2], [3], [4], [3], [4], [5], [4], [5], [6]] \n",
    "### [[2, 3, 4, 5], [3, 4, 5, 6],[4, 5, 6, 7], [5, 6, 7, 8]]\n",
    "### [(1, 1), (2, 1), (3, 1), (1, 2), (2, 2), (3, 2), (1, 3), (2, 3), (3, 3)]"
   ]
  },
  {
   "cell_type": "code",
   "execution_count": 3,
   "metadata": {},
   "outputs": [
    {
     "name": "stdout",
     "output_type": "stream",
     "text": [
      "['A', 'C', 'A', 'D', 'G', 'I', 'L', 'D']\n",
      "['x', 'xx', 'xxx', 'xxxx', 'y', 'yy', 'yyy', 'yyyy', 'z', 'zz', 'zzz', 'zzzz']\n",
      "['x', 'y', 'z', 'xx', 'yy', 'zz', 'xxx', 'yyy', 'zzz', 'xxxx', 'yyyy', 'zzzz']\n",
      "[[2], [3], [4], [3], [4], [5], [4], [5], [6]]\n",
      "[[2, 3, 4, 5], [3, 4, 5, 6], [4, 5, 6, 7], [5, 6, 7, 8]]\n",
      "[(1, 1), (2, 1), (3, 1), (1, 2), (2, 2), (3, 2), (1, 3), (2, 3), (3, 3)]\n"
     ]
    }
   ],
   "source": [
    "a = [i for i in \"ACADGILD\"]\n",
    "print(a)\n",
    "a = [i*j for i in \"xyz\" for j in range(1,5)]\n",
    "print(a)\n",
    "a = [i*j for i in range(1,5) for j in \"xyz\"]\n",
    "print(a)\n",
    "a = [[j] for i in range(2,5) for j in range(i,i+3)]\n",
    "print(a)\n",
    "a = [[j for j in range(i,i+4)] for i in range(2,6)]\n",
    "print(a)\n",
    "a = [(j,i) for i in range(1,4) for j in range(1,4)]\n",
    "print(a)"
   ]
  },
  {
   "cell_type": "code",
   "execution_count": null,
   "metadata": {},
   "outputs": [],
   "source": []
  }
 ],
 "metadata": {
  "kernelspec": {
   "display_name": "Python 3",
   "language": "python",
   "name": "python3"
  },
  "language_info": {
   "codemirror_mode": {
    "name": "ipython",
    "version": 3
   },
   "file_extension": ".py",
   "mimetype": "text/x-python",
   "name": "python",
   "nbconvert_exporter": "python",
   "pygments_lexer": "ipython3",
   "version": "3.7.4"
  }
 },
 "nbformat": 4,
 "nbformat_minor": 4
}
